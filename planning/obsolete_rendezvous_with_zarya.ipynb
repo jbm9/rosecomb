{
 "cells": [
  {
   "cell_type": "markdown",
   "metadata": {},
   "source": [
    "# Rendezvous with Zarya\n",
    "\n",
    "[ NB: ALL OF THI\n",
    "\n",
    "Now to tray and track a satellite from the ground.  For this, we're going to shoot for Zarya (well, actually, the entire ISS, not just its first component).  This is an easy thing to see by eye, and is also easily tracked in gpredict or other tools.\n",
    "\n",
    "First up, let's copypasta our ECI stuff from `simple_eci_frames.ipynb`, because libraries are for people who know what they're doing already."
   ]
  },
  {
   "cell_type": "code",
   "execution_count": 1,
   "metadata": {
    "collapsed": false
   },
   "outputs": [
    {
     "name": "stdout",
     "output_type": "stream",
     "text": [
      "Populating the interactive namespace from numpy and matplotlib\n"
     ]
    }
   ],
   "source": [
    "%pylab inline\n",
    "import numpy as np # Going to use numpy for lots of matrix stuff, sorrynotsorry\n",
    "\n",
    "class GMST:\n",
    "    T0_utc = 946728000 # 2000-01-01T12h00Z is the zero point for T below\n",
    "    GMST0 = 18.697374558\n",
    "    SID_HRS = 24.06570982441908 # Clock hours in a sideral day\n",
    "    \n",
    "    \n",
    "    @classmethod\n",
    "    def from_unix(cls, t_utc):\n",
    "        \"\"\"Compute GMST (in radians) based on unix time\n",
    "        \n",
    "        Based on a formula from http://aa.usno.navy.mil/faq/docs/GAST.php\n",
    "        \n",
    "        This formula is reportedly good to 0.1sec/century, which is plenty\n",
    "        good for SGP4 work, where we're willing to conflate UTC and UT1, which\n",
    "        is a margin of a millenium(!) of drift due to this formula.\n",
    "        \n",
    "        NB: I'm pretty sure we get all the significant figures in the constants\n",
    "        here, but it's not super clear, so the drift may be higher than\n",
    "        reported.  For this application, I can't be bothered to check up on this,\n",
    "        but if you need super high precision, this is a bit of an XXX comment.\n",
    "        \"\"\"\n",
    "        \n",
    "        d = (t_utc - GMST.T0_utc)/86400.0\n",
    "        gmst_h = (GMST.GMST0 + GMST.SID_HRS*d) % 24 # GMST given in 24.00 hour periods\n",
    "        gmst_rad = gmst_h / 24.00*2*np.pi # 24.00 hr, so not the same as WGS84.omega\n",
    "        return gmst_rad\n",
    "    \n",
    "    \n",
    "class WGS84:\n",
    "    # A container for random WGS84 constants; NB: this duplicates stuff in sgp4, probably can be removed\n",
    "    f = 1/298.257223560 # flattening of the spheroid, no units\n",
    "    a = 6378.137 # equatorial radius, km\n",
    "    omega_e = 366.25/365.25 # ratio of sidereal day to solar day\n",
    "    omega = 7.292115e-5 # earth rotation rate, radians/second. Note! this is 2pi/_sidereal_ day\n",
    "                        # Alternately, omega = 2*pi/86400*omega_e\n",
    "    \n",
    "\n",
    "class ECIPoint:\n",
    "    \"Represents an (x,y,z) point with velocity in the Earth-Centered Inertial coordinate system\"\n",
    "    def __init__(self, pos, vel):\n",
    "        self.pos = np.array(pos)\n",
    "        self.vel = np.array(vel)\n",
    "        \n",
    "    def speed(self):\n",
    "        # Get the absolute speed of this object\n",
    "        return np.linalg.norm(self.vel)\n",
    "    \n",
    "    def range_to(self, eci2):\n",
    "        # Get the range from this point to the second point\n",
    "        return eci2.pos - self.pos\n",
    "    \n",
    "    def range_vel(self, eci2):\n",
    "        return eci2.vel - self.vel\n",
    "    \n",
    "    def alt(self, t):\n",
    "        return np.linalg.norm(self.pos) - WGS84.a\n",
    "    \n",
    "    def lat(self,t ):\n",
    "        # Get the latitude under this point, in radians\n",
    "        return 0.00\n",
    "        \n",
    "    def __repr__(self):\n",
    "        return \"(%0.3f,%0.3f,%0.3f) km @ (%0.3f,%0.3f,%0.3f) km/s\" % (self.pos[0], self.pos[1], self.pos[2],\n",
    "                                                                      self.vel[0], self.vel[1], self.vel[2])\n",
    "    \n",
    "class ECIEarthPoints:\n",
    "    \"Given a lat/long and altitude, compute an ECIPoint for any given unix time.\"\n",
    "    def __init__(self, lat, lon, alt_m):\n",
    "        \"\"\"Create an ECIPoint generator for the given position.\n",
    "        \n",
    "        * (lat,lon) in radians, because degress includes further decimal vs hms arbitrariness\n",
    "        * alt above earth radius in meters\n",
    "        \"\"\"\n",
    "        self.lat = lat\n",
    "        self.lon = lon\n",
    "        self.alt = alt_m/1e3 # Convert to km\n",
    "        \n",
    "    def lmst(self, t):\n",
    "        # Get the local sideral mean time for unix time t, in radians\n",
    "        \n",
    "        gmst = GMST.from_unix(t)\n",
    "        theta = gmst + self.lon # local mean sidereal time\n",
    "        return theta\n",
    "        \n",
    "    def __repr__(self):\n",
    "        return \"(%0.4f,%0.4f)@%0.1fm\" % (np.rad2deg(self.lat), np.rad2deg(self.lon), self.alt*1e3)\n",
    "        \n",
    "    def at(self, t):\n",
    "        # Returns the ECIPoint for the given position at time t\n",
    "        \n",
    "        theta = self.lmst(t)\n",
    "        \n",
    "        # Correct for spheroid\n",
    "        c = np.sqrt(1 + WGS84.f*(WGS84.f-2)*(np.sin(self.lat)**2))\n",
    "        sq = c*(1-WGS84.f)**2\n",
    "        \n",
    "        # no idea why this is called achcp. \n",
    "        achcp = (WGS84.a*sq + self.alt) * np.cos(self.lat)\n",
    "        \n",
    "        pos_x = achcp*np.cos(theta)\n",
    "        pos_y = achcp*np.sin(theta)\n",
    "        pos_z = (WGS84.a*c + self.alt)*np.sin(self.lat)\n",
    "        \n",
    "        vel_x = WGS84.omega * -1*pos_y # derivative of sin and cos are handy here\n",
    "        vel_y = WGS84.omega *    pos_x\n",
    "        vel_z = 0 # please don't throw your telescope, or this gets super ugly.\n",
    "        \n",
    "        return ECIPoint((pos_x,pos_y,pos_z), (vel_x,vel_y,vel_z))\n",
    "    \n",
    "    \n",
    "    def v_to(self, t, pt):\n",
    "        # Get a vector in topocentric coordinates at the given ECIPoint at unix time t\n",
    "        \n",
    "        obs_pt = self.at(t)\n",
    "        theta = self.lmst(t)\n",
    "        \n",
    "        v_range = obs_pt.range_to(pt)\n",
    "        \n",
    "        l_c,l_s = np.cos(self.lat), np.sin(self.lat) # we use these a lot below\n",
    "        t_c,t_s = np.cos(theta), np.sin(theta)\n",
    "        \n",
    "        # The axes used here are slightly annoying to me: they're due south, due east, and up.\n",
    "        # This is almost certainly done to keep some handedness constraints in the math, but,\n",
    "        # dangit three-space, why are you so difficult?\n",
    "        xform = np.array([\n",
    "            [l_s*t_c, l_s*t_s, -l_c],\n",
    "            [-t_s,    t_c,        0],\n",
    "            [l_c*t_c, l_c*t_s,  l_s]]) # prettier if you swap y and z, but that's confusing\n",
    "        \n",
    "        vec_sez = xform.dot(v_range)\n",
    "        return vec_sez\n",
    "    \n",
    "    def alt_az(self, t, pt):\n",
    "        # Returns the elevation and azimuth of the given point in space at time t from here\n",
    "        vec_sez = self.v_to(t,pt)\n",
    "        distance = np.sqrt(np.sum(vec_sez**2))\n",
    "        \n",
    "        azimuth = np.arctan2(vec_sez[1], -1*vec_sez[0])\n",
    "        elevation = np.arcsin(vec_sez[2]/distance)\n",
    "        \n",
    "        if azimuth < 0:\n",
    "            azimuth += 2*np.pi\n",
    "\n",
    "        return (elevation, azimuth)"
   ]
  },
  {
   "cell_type": "code",
   "execution_count": 2,
   "metadata": {
    "collapsed": true
   },
   "outputs": [],
   "source": [
    "qth_deg = (37.728206,-122.407863) # QTH for AJ9BM\n",
    "qth = ECIEarthPoints(np.deg2rad(qth_deg[0]), np.deg2rad(qth_deg[1]), 25)"
   ]
  },
  {
   "cell_type": "markdown",
   "metadata": {},
   "source": [
    "Okay, let's get the ISS TLEs from Celestrak's [stations.txt file](https://www.celestrak.com/NORAD/elements/stations.txt).  The explanations of these are beyond the scope of our current project, thankfully.  Maybe another day.\n",
    "\n",
    "Also, update gpredict using its built in TLE updater at the same time.  You can verify the TLEs are identical by checking `~/.config/Gpredict/satdata/25544.sat` (25544 is the SSN for ISS).  The ISS was literally overhead as I ran all this, so it was a bit rushed the first time through, but the TLEs matched."
   ]
  },
  {
   "cell_type": "code",
   "execution_count": 3,
   "metadata": {
    "collapsed": true
   },
   "outputs": [],
   "source": [
    "iss_tles=\"\"\"ISS (ZARYA)             \n",
    "1 25544U 98067A   17330.99569027  .00003456  00000-0  59208-4 0  9997\n",
    "2 25544  51.6427 306.6944 0004138 155.0450 324.2726 15.54239375 87077\n",
    "\"\"\""
   ]
  },
  {
   "cell_type": "code",
   "execution_count": 4,
   "metadata": {
    "collapsed": false
   },
   "outputs": [],
   "source": [
    "from sgp4.earth_gravity import wgs84\n",
    "from sgp4.io import twoline2rv"
   ]
  },
  {
   "cell_type": "code",
   "execution_count": 5,
   "metadata": {
    "collapsed": false
   },
   "outputs": [],
   "source": [
    "iss_sat = twoline2rv(iss_tles.split(\"\\n\")[1], iss_tles.split(\"\\n\")[2], wgs84)"
   ]
  },
  {
   "cell_type": "code",
   "execution_count": 6,
   "metadata": {
    "collapsed": true
   },
   "outputs": [],
   "source": [
    "import time"
   ]
  },
  {
   "cell_type": "code",
   "execution_count": 7,
   "metadata": {
    "collapsed": true
   },
   "outputs": [],
   "source": [
    "class ECITLEPoints:\n",
    "    \"\"\"Generator for an orbit described by TLEs\"\"\"\n",
    "    def __init__(self, tle1, tle2, gravity_model):\n",
    "        self.tle1 = tle1\n",
    "        self.tle2 = tle2\n",
    "        self.wgs = gravity_model\n",
    "        \n",
    "        self.satellite = twoline2rv(tle1, tle2, gravity_model)\n",
    "        \n",
    "    def at(self, t):\n",
    "        # Get the ECIPoint for the satellite at the given time\n",
    "        tm = time.gmtime(t)\n",
    "        pos,vel = self.satellite.propagate(tm.tm_year, tm.tm_mon, tm.tm_mday,\n",
    "                                           tm.tm_hour, tm.tm_min, tm.tm_sec) # why. just why.\n",
    "        return ECIPoint(pos,vel)"
   ]
  },
  {
   "cell_type": "code",
   "execution_count": 8,
   "metadata": {
    "collapsed": false
   },
   "outputs": [
    {
     "data": {
      "text/plain": [
       "[-1.8739948717186834, 270.6455109864869]"
      ]
     },
     "execution_count": 8,
     "metadata": {},
     "output_type": "execute_result"
    }
   ],
   "source": [
    "t = time.time()\n",
    "tm = time.gmtime(t)\n",
    "position, vel = iss_sat.propagate(tm.tm_year, tm.tm_mon, tm.tm_mday, tm.tm_hour, tm.tm_min, tm.tm_sec)\n",
    "iss_eci = ECIPoint(position, vel)\n",
    "\n",
    "map(np.rad2deg,qth.alt_az(t, iss_eci))"
   ]
  },
  {
   "cell_type": "code",
   "execution_count": 40,
   "metadata": {
    "collapsed": false
   },
   "outputs": [
    {
     "data": {
      "text/plain": [
       "[-39.939552862651702, 71.904095039144664]"
      ]
     },
     "execution_count": 40,
     "metadata": {},
     "output_type": "execute_result"
    }
   ],
   "source": [
    "iss = ECITLEPoints(iss_tles.split(\"\\n\")[1], iss_tles.split(\"\\n\")[2], wgs84)\n",
    "t_now = time.time()\n",
    "map(np.rad2deg, qth.alt_az(t_now, iss.at(t_now)))"
   ]
  },
  {
   "cell_type": "code",
   "execution_count": 41,
   "metadata": {
    "collapsed": false
   },
   "outputs": [
    {
     "data": {
      "text/plain": [
       "[66.137006708800129, 230.28788402030125]"
      ]
     },
     "execution_count": 41,
     "metadata": {},
     "output_type": "execute_result"
    }
   ],
   "source": [
    "t_now = 1511750469\n",
    "expected = (67.51,241.21)\n",
    "# expected range: 439km, range rate -2.593km/s, altitude 408km, vel 7.671km/s\n",
    "map(np.rad2deg, qth.alt_az(t_now, iss.at(t_now)))"
   ]
  },
  {
   "cell_type": "code",
   "execution_count": 11,
   "metadata": {
    "collapsed": false
   },
   "outputs": [
    {
     "data": {
      "text/plain": [
       "7.670494131021"
      ]
     },
     "execution_count": 11,
     "metadata": {},
     "output_type": "execute_result"
    }
   ],
   "source": [
    "iss.at(t_now).speed()"
   ]
  },
  {
   "cell_type": "code",
   "execution_count": 12,
   "metadata": {
    "collapsed": true
   },
   "outputs": [],
   "source": [
    "qa = qth.at(t_now)\n",
    "ia = iss.at(t_now)"
   ]
  },
  {
   "cell_type": "code",
   "execution_count": 13,
   "metadata": {
    "collapsed": false,
    "scrolled": true
   },
   "outputs": [
    {
     "data": {
      "text/plain": [
       "-2.8114646837966091"
      ]
     },
     "execution_count": 13,
     "metadata": {},
     "output_type": "execute_result"
    }
   ],
   "source": [
    "np.dot(qa.range_to(ia), qa.range_vel(ia))/np.linalg.norm(qa.range_to(ia))"
   ]
  },
  {
   "cell_type": "code",
   "execution_count": 14,
   "metadata": {
    "collapsed": false
   },
   "outputs": [
    {
     "data": {
      "text/plain": [
       "(11.343860389246361, 407.10165883067657)"
      ]
     },
     "execution_count": 14,
     "metadata": {},
     "output_type": "execute_result"
    }
   ],
   "source": [
    "pos,vel = iss_sat.propagate(2003,3,23,0,3,22)\n",
    "np.rad2deg(np.arctan2(pos[2], np.sqrt(pos[0]**2+pos[1]**2))),np.linalg.norm(pos)-WGS84.a"
   ]
  },
  {
   "cell_type": "code",
   "execution_count": 15,
   "metadata": {
    "collapsed": true
   },
   "outputs": [],
   "source": [
    "iss2_sat = twoline2rv(\"1 25544U 98067A   03097.78853147  .00021906  00000-0  28403-3 0  8652\", \"2 25544  51.6361  13.7980 0004256  35.6671  59.2566 15.58778559250029\", wgs84)"
   ]
  },
  {
   "cell_type": "code",
   "execution_count": 16,
   "metadata": {
    "collapsed": false
   },
   "outputs": [
    {
     "data": {
      "text/plain": [
       "(23.025274886482308, 388.73878691717346)"
      ]
     },
     "execution_count": 16,
     "metadata": {},
     "output_type": "execute_result"
    }
   ],
   "source": [
    "pos,vel = iss2_sat.propagate(2003,3,23,0,3,22)\n",
    "np.rad2deg(np.arctan2(pos[2], np.sqrt(pos[0]**2+pos[1]**2))),np.linalg.norm(pos)-WGS84.a"
   ]
  },
  {
   "cell_type": "code",
   "execution_count": 17,
   "metadata": {
    "collapsed": true
   },
   "outputs": [],
   "source": [
    "import pyorbital"
   ]
  },
  {
   "cell_type": "code",
   "execution_count": 18,
   "metadata": {
    "collapsed": false
   },
   "outputs": [],
   "source": [
    "from pyorbital.orbital import Orbital\n",
    "import datetime"
   ]
  },
  {
   "cell_type": "code",
   "execution_count": 19,
   "metadata": {
    "collapsed": false
   },
   "outputs": [
    {
     "data": {
      "text/plain": [
       "((array([ 0.81527566, -0.30463416,  0.60999847]),\n",
       "  array([-0.0062417 ,  0.06070707,  0.03849922])),\n",
       " (-150.01445129254606, 35.196049334544703, 407.70534505137545))"
      ]
     },
     "execution_count": 19,
     "metadata": {},
     "output_type": "execute_result"
    }
   ],
   "source": [
    "orb = Orbital(\"ISS\", line1=iss_tles.split(\"\\n\")[1], line2=iss_tles.split(\"\\n\")[2])\n",
    "t_now = time.time()\n",
    "now = datetime.datetime.utcnow()\n",
    "\n",
    "orb.get_position(now), orb.get_lonlatalt(now)"
   ]
  },
  {
   "cell_type": "code",
   "execution_count": 20,
   "metadata": {
    "collapsed": false
   },
   "outputs": [
    {
     "data": {
      "text/plain": [
       "400.64904879162623"
      ]
     },
     "execution_count": 20,
     "metadata": {},
     "output_type": "execute_result"
    }
   ],
   "source": [
    "np.linalg.norm(iss.at(t_now).pos)-WGS84.a"
   ]
  },
  {
   "cell_type": "code",
   "execution_count": 21,
   "metadata": {
    "collapsed": false
   },
   "outputs": [
    {
     "ename": "SyntaxError",
     "evalue": "invalid syntax (<ipython-input-21-88bc6c93b922>, line 1)",
     "output_type": "error",
     "traceback": [
      "\u001b[0;36m  File \u001b[0;32m\"<ipython-input-21-88bc6c93b922>\"\u001b[0;36m, line \u001b[0;32m1\u001b[0m\n\u001b[0;31m    orb.get_observer_look(datetime(, np.deg2rad(qth_deg[0]), np.deg2rad(qth_deg[1]), 0)\u001b[0m\n\u001b[0m                                   ^\u001b[0m\n\u001b[0;31mSyntaxError\u001b[0m\u001b[0;31m:\u001b[0m invalid syntax\n"
     ]
    }
   ],
   "source": [
    "orb.get_observer_look(datetime(, np.deg2rad(qth_deg[0]), np.deg2rad(qth_deg[1]), 0)"
   ]
  },
  {
   "cell_type": "code",
   "execution_count": 22,
   "metadata": {
    "collapsed": false
   },
   "outputs": [
    {
     "data": {
      "text/plain": [
       "(array([ 5200.11670661, -1944.67445609,  3889.59738184]),\n",
       " array([ 5199.93985356, -1942.99840505,  3890.65379783]))"
      ]
     },
     "execution_count": 22,
     "metadata": {},
     "output_type": "execute_result"
    }
   ],
   "source": [
    "iss.at(t_now).pos, orb.get_position(now)[0]*WGS84.a"
   ]
  },
  {
   "cell_type": "code",
   "execution_count": 23,
   "metadata": {
    "collapsed": true
   },
   "outputs": [],
   "source": [
    "datetime.tzinfo"
   ]
  },
  {
   "cell_type": "code",
   "execution_count": 24,
   "metadata": {
    "collapsed": false
   },
   "outputs": [
    {
     "data": {
      "text/plain": [
       "['MAXYEAR',\n",
       " 'MINYEAR',\n",
       " '__doc__',\n",
       " '__name__',\n",
       " '__package__',\n",
       " 'date',\n",
       " 'datetime',\n",
       " 'datetime_CAPI',\n",
       " 'time',\n",
       " 'timedelta',\n",
       " 'tzinfo']"
      ]
     },
     "execution_count": 24,
     "metadata": {},
     "output_type": "execute_result"
    }
   ],
   "source": [
    "dir(datetime)"
   ]
  },
  {
   "cell_type": "code",
   "execution_count": 138,
   "metadata": {
    "collapsed": false
   },
   "outputs": [
    {
     "data": {
      "text/plain": [
       "['__class__',\n",
       " '__delattr__',\n",
       " '__doc__',\n",
       " '__format__',\n",
       " '__getattribute__',\n",
       " '__hash__',\n",
       " '__init__',\n",
       " '__new__',\n",
       " '__reduce__',\n",
       " '__reduce_ex__',\n",
       " '__repr__',\n",
       " '__setattr__',\n",
       " '__sizeof__',\n",
       " '__str__',\n",
       " '__subclasshook__',\n",
       " 'dst',\n",
       " 'fromutc',\n",
       " 'tzname',\n",
       " 'utcoffset']"
      ]
     },
     "execution_count": 138,
     "metadata": {},
     "output_type": "execute_result"
    }
   ],
   "source": [
    "dir(tzinfo)"
   ]
  },
  {
   "cell_type": "code",
   "execution_count": 137,
   "metadata": {
    "collapsed": false
   },
   "outputs": [
    {
     "ename": "TypeError",
     "evalue": "descriptor 'tzname' requires a 'datetime.tzinfo' object but received a 'str'",
     "output_type": "error",
     "traceback": [
      "\u001b[0;31m---------------------------------------------------------------------------\u001b[0m",
      "\u001b[0;31mTypeError\u001b[0m                                 Traceback (most recent call last)",
      "\u001b[0;32m<ipython-input-137-6db6ba118df9>\u001b[0m in \u001b[0;36m<module>\u001b[0;34m()\u001b[0m\n\u001b[0;32m----> 1\u001b[0;31m \u001b[0morb\u001b[0m\u001b[0;34m.\u001b[0m\u001b[0mget_observer_look\u001b[0m\u001b[0;34m(\u001b[0m\u001b[0mdatetime\u001b[0m\u001b[0;34m(\u001b[0m\u001b[0;36m2017\u001b[0m\u001b[0;34m,\u001b[0m\u001b[0;36m11\u001b[0m\u001b[0;34m,\u001b[0m\u001b[0;36m27\u001b[0m\u001b[0;34m,\u001b[0m\u001b[0;36m2\u001b[0m\u001b[0;34m,\u001b[0m\u001b[0;36m40\u001b[0m\u001b[0;34m,\u001b[0m\u001b[0;36m50\u001b[0m\u001b[0;34m,\u001b[0m \u001b[0;36m0\u001b[0m\u001b[0;34m,\u001b[0m \u001b[0mtzinfo\u001b[0m\u001b[0;34m.\u001b[0m\u001b[0mtzname\u001b[0m\u001b[0;34m(\u001b[0m\u001b[0;34m'UTC'\u001b[0m\u001b[0;34m)\u001b[0m\u001b[0;34m)\u001b[0m\u001b[0;34m,\u001b[0m \u001b[0;36m37.7282\u001b[0m\u001b[0;34m,\u001b[0m \u001b[0;34m-\u001b[0m\u001b[0;36m122.4070\u001b[0m\u001b[0;34m,\u001b[0m \u001b[0;36m25\u001b[0m\u001b[0;34m)\u001b[0m\u001b[0;34m\u001b[0m\u001b[0m\n\u001b[0m",
      "\u001b[0;31mTypeError\u001b[0m: descriptor 'tzname' requires a 'datetime.tzinfo' object but received a 'str'"
     ]
    }
   ],
   "source": [
    "orb.get_observer_look(datetime(2017,11,27,2,40,50, 0, tzinfo.), 37.7282, -122.4070, 25)"
   ]
  },
  {
   "cell_type": "code",
   "execution_count": 25,
   "metadata": {
    "collapsed": true
   },
   "outputs": [],
   "source": [
    "import ephem"
   ]
  },
  {
   "cell_type": "code",
   "execution_count": 47,
   "metadata": {
    "collapsed": false
   },
   "outputs": [],
   "source": [
    "iss = ephem.readtle(*(iss_tles.split(\"\\n\")[:3]))"
   ]
  },
  {
   "cell_type": "code",
   "execution_count": 48,
   "metadata": {
    "collapsed": false
   },
   "outputs": [
    {
     "data": {
      "text/plain": [
       "407794.5625"
      ]
     },
     "execution_count": 48,
     "metadata": {},
     "output_type": "execute_result"
    }
   ],
   "source": [
    "iss.compute('2017-11-27 02:40:50')\n",
    "iss.elevation"
   ]
  },
  {
   "cell_type": "code",
   "execution_count": 49,
   "metadata": {
    "collapsed": false
   },
   "outputs": [
    {
     "data": {
      "text/plain": [
       "69.34734456399744"
      ]
     },
     "execution_count": 49,
     "metadata": {},
     "output_type": "execute_result"
    }
   ],
   "source": [
    "ephem.delta_t()"
   ]
  },
  {
   "cell_type": "code",
   "execution_count": 59,
   "metadata": {
    "collapsed": false
   },
   "outputs": [
    {
     "data": {
      "text/plain": [
       "(-51.201164150639514, 77.117405125998701)"
      ]
     },
     "execution_count": 59,
     "metadata": {},
     "output_type": "execute_result"
    }
   ],
   "source": [
    "qth = ephem.Observer()\n",
    "qth.lat=np.deg2rad(qth_deg[0])\n",
    "qth.lon=np.deg2rad(qth_deg[1])\n",
    "qth.elevation=25\n",
    "\n",
    "qth.date = datetime.datetime.utcnow()\n",
    "\n",
    "iss.compute(qth)\n",
    "np.rad2deg(iss.alt), np.rad2deg(iss.az)"
   ]
  },
  {
   "cell_type": "code",
   "execution_count": null,
   "metadata": {
    "collapsed": true
   },
   "outputs": [],
   "source": [
    "iss."
   ]
  },
  {
   "cell_type": "code",
   "execution_count": null,
   "metadata": {
    "collapsed": true
   },
   "outputs": [],
   "source": []
  }
 ],
 "metadata": {
  "kernelspec": {
   "display_name": "Python 2",
   "language": "python",
   "name": "python2"
  },
  "language_info": {
   "codemirror_mode": {
    "name": "ipython",
    "version": 2
   },
   "file_extension": ".py",
   "mimetype": "text/x-python",
   "name": "python",
   "nbconvert_exporter": "python",
   "pygments_lexer": "ipython2",
   "version": "2.7.12"
  }
 },
 "nbformat": 4,
 "nbformat_minor": 2
}
