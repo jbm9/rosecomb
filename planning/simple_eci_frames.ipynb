{
 "cells": [
  {
   "cell_type": "markdown",
   "metadata": {},
   "source": [
    "# Survey of Satellite Ranges/Positions\n",
    "\n",
    "In order to figure out what kind of performance we need in terms of optics and GoTo slew rates, we need to know where the satellites are.  To do this, we can guess lots of things, but it's probably better to just throw a bunch of TLEs through a prediction algorithm and get histograms of their tracks.\n",
    "\n",
    "This also gives us the capability to compute the alt-az coordinates for passes, which is something we need later on in the project.\n",
    "\n",
    "Starting by taking apart the gpredict codebase to sort out how one actually does the azimuth/elevation computations.  As with many things, it all starts with the vagaries of timebases."
   ]
  },
  {
   "cell_type": "markdown",
   "metadata": {},
   "source": [
    "## Getting to GMST\n",
    "\n",
    "From the excellent [Astronomical Times](http://www.cv.nrao.edu/~rfisher/Ephemerides/times.html#GMST) by R. Fisher:\n",
    "\n",
    "> GMST - Greenwich Mean Sidereal Time\n",
    "> \n",
    "> Sidereal time is the measure of the earth's rotation with respect to distant celestial objects. Compare this to UT1, which is the rotation of the earth with respect to the mean position of the sun. One sidereal second is approximately 365.25/366.25 of a UT1 second. In other words, there is one more day in a sidereal year than in a solar year.\n",
    "By convention, the reference points for Greenwich Sidereal Time are the Greenwich Meridian and the vernal equinox (the intersection of the planes of the earth's equator and the earth's orbit, the ecliptic). The Greenwich sidereal day begins when the vernal equinox is on the Greenwich Meridian. Greenwich Mean Sidereal Time (GMST) is the hour angle of the average position of the vernal equinox, neglecting short term motions of the equinox due to nutation.\n",
    "> \n",
    "> In conformance with IAU conventions for the motion of the earth's equator and equinox [ref 7] GMST is linked directly to UT1 through the equation\n",
    ">\n",
    ">    GMST (in seconds at UT1=0)\n",
    ">\n",
    ">      = 24110.54841 + 8640184.812866 * T\n",
    ">                    + 0.093104 * T^2\n",
    ">                    - 0.0000062 * T^3\n",
    "> where T is in Julian centuries from 2000 Jan. 1 12h UT1\n",
    ">\n",
    ">\t    T = d / 36525\n",
    ">\t    d = JD - 2451545.0\n",
    ">\n",
    "> It might seem strange that UT1, a solar time, is determined by measuring the earth's rotation with respect to distant celestial objects, and GMST, a sidereal time, is derived from it. This oddity is mainly due our choice of solar time in defining the atomic time second. Hence, small variations of the earth's rotation are more easily published as (UT1 - Atomic Time) differences. In practice, of course, some form of sidereal time is involved in measuring UT1.\n",
    "\n",
    "Another good resource for finding GMST is the [Approximate Sidereal Time page from USNO](http://aa.usno.navy.mil/faq/docs/GAST.php).  They give a handy formula which returns GMST (in hours) good to 0.1 seconds per century:\n",
    "\n",
    "> GMST = 18.697374558 + 24.06570982441908 D\n",
    "\n",
    "Where D is floating point days since `2000-01-01T12:00:00Z`.  Because who needs seconds when you can have arbitrary fractions of days instead?\n"
   ]
  },
  {
   "cell_type": "code",
   "execution_count": 1,
   "metadata": {
    "collapsed": false
   },
   "outputs": [
    {
     "name": "stdout",
     "output_type": "stream",
     "text": [
      "Populating the interactive namespace from numpy and matplotlib\n"
     ]
    }
   ],
   "source": [
    "%pylab inline\n",
    "import numpy as np # Going to use numpy for lots of matrix stuff, sorrynotsorry\n",
    "\n",
    "class GMST:\n",
    "    T0_utc = 946728000 # 2000-01-01T12h00Z is the zero point for T below\n",
    "    GMST0 = 18.697374558\n",
    "    SID_HRS = 24.06570982441908 # Clock hours in a sideral day\n",
    "    \n",
    "    \n",
    "    @classmethod\n",
    "    def from_unix(cls, t_utc):\n",
    "        \"\"\"Compute GMST (in radians) based on unix time\n",
    "        \n",
    "        Based on a formula from http://aa.usno.navy.mil/faq/docs/GAST.php\n",
    "        \n",
    "        This formula is reportedly good to 0.1sec/century, which is plenty\n",
    "        good for SGP4 work, where we're willing to conflate UTC and UT1, which\n",
    "        is a margin of a millenium(!) of drift due to this formula.\n",
    "        \n",
    "        NB: I'm pretty sure we get all the significant figures in the constants\n",
    "        here, but it's not super clear, so the drift may be higher than\n",
    "        reported.  For this application, I can't be bothered to check up on this,\n",
    "        but if you need super high precision, this is a bit of an XXX comment.\n",
    "        \"\"\"\n",
    "        \n",
    "        d = (t_utc - GMST.T0_utc)/86400.0\n",
    "        gmst_h = (GMST.GMST0 + GMST.SID_HRS*d) % 24 # GMST given in 24.00 hour periods\n",
    "        gmst_rad = gmst_h / 24.00*2*np.pi # 24.00 hr, so not the same as WGS84.omega\n",
    "        return gmst_rad"
   ]
  },
  {
   "cell_type": "markdown",
   "metadata": {},
   "source": [
    "All our coordinates work is done in [Earth-centered inertial](https://en.wikipedia.org/wiki/Earth-centered_inertial) coordinates, where you, sitting in a chair, are whipping around in a circle about the Earth's axis at rather high speed.  The units in the codebase gpredict's algorithm are derived from seems to use kilometers for units, so we'll use that as well internally.\n",
    "\n",
    "All of this is computed using the WGS84 model of the Earth, excerpts of which we include below.  This is redundant with the model constants present in any of the orbital libraries, so maybe we don't need this.  But hey, this is expedient, and we're currently just experimenting.\n",
    "\n",
    "So we start with WGS84 and get to code that can find out exactly where your chair is in 3-space about the center of the earth at any given point in time, as well as your velocity at that point in time."
   ]
  },
  {
   "cell_type": "code",
   "execution_count": 2,
   "metadata": {
    "collapsed": false
   },
   "outputs": [],
   "source": [
    "class WGS84:\n",
    "    # A container for random WGS84 constants; NB: this duplicates stuff in sgp4, probably can be removed\n",
    "    f = 1/298.257223560 # flattening of the spheroid, no units\n",
    "    a = 6378.137 # equatorial radius, km\n",
    "    omega_e = 366.25/365.25 # ratio of sidereal day to solar day\n",
    "    omega = 7.292115e-5 # earth rotation rate, radians/second. Note! this is 2pi/_sidereal_ day\n",
    "                        # Alternately, omega = 2*pi/86400*omega_e\n",
    "    \n",
    "\n",
    "class ECIPoint:\n",
    "    \"Represents an (x,y,z) point with velocity in the Earth-Centered Inertial coordinate system\"\n",
    "    def __init__(self, pos, vel):\n",
    "        self.pos = np.array(pos)\n",
    "        self.vel = np.array(vel)\n",
    "        \n",
    "    def speed(self):\n",
    "        # Get the absolute speed of this object\n",
    "        return np.sqrt(np.sum(self.vel**2))\n",
    "    \n",
    "    def range_to(self, eci2):\n",
    "        # Get the range from this point to the second point\n",
    "        return eci2.pos - self.pos\n",
    "    \n",
    "    def range_vel(self, eci2):\n",
    "        return eci2.vel - self.vel\n",
    "        \n",
    "    def __repr__(self):\n",
    "        return \"(%0.3f,%0.3f,%0.3f) km @ (%0.3f,%0.3f,%0.3f) km/s\" % (self.pos[0], self.pos[1], self.pos[2], self.vel[0], self.vel[1], self.vel[2])\n",
    "    \n",
    "class ECIEarthPoints:\n",
    "    \"Given a lat/long and altitude, compute an ECIPoint for any given unix time.\"\n",
    "    def __init__(self, lat, lon, alt_m):\n",
    "        \"\"\"Create an ECIPoint generator for the given position.\n",
    "        \n",
    "        * (lat,lon) in radians, because degress includes further decimal vs hms arbitrariness\n",
    "        * alt above earth radius in meters\n",
    "        \"\"\"\n",
    "        self.lat = lat\n",
    "        self.lon = lon\n",
    "        self.alt = alt_m/1e3 # Convert to km\n",
    "        \n",
    "    def lmst(self, t):\n",
    "        # Get the local sideral mean time for unix time t, in radians\n",
    "        \n",
    "        gmst = GMST.from_unix(t)\n",
    "        theta = gmst + self.lon # local mean sidereal time\n",
    "        return theta\n",
    "        \n",
    "    def __repr__(self):\n",
    "        return \"(%0.4f,%0.4f)@%0.1fm\" % (np.rad2deg(self.lat), np.rad2deg(self.lon), self.alt*1e3)\n",
    "        \n",
    "    def at(self, t):\n",
    "        # Returns the ECIPoint for the given position at time t\n",
    "        \n",
    "        theta = self.lmst(t)\n",
    "        \n",
    "        # Correct for spheroid\n",
    "        c = np.sqrt(1 + WGS84.f*(WGS84.f-2)*(np.sin(self.lat)**2))\n",
    "        sq = c*(1-WGS84.f)**2\n",
    "        \n",
    "        # no idea why this is called achcp. \n",
    "        achcp = (WGS84.a*sq + self.alt) * np.cos(self.lat)\n",
    "        \n",
    "        pos_x = achcp*np.cos(theta)\n",
    "        pos_y = achcp*np.sin(theta)\n",
    "        pos_z = (WGS84.a*c + self.alt)*np.sin(self.lat)\n",
    "        \n",
    "        vel_x = WGS84.omega * -1*pos_y # derivative of sin and cos are handy here\n",
    "        vel_y = WGS84.omega *    pos_x\n",
    "        vel_z = 0 # please don't throw your telescope, or this gets super ugly.\n",
    "        \n",
    "        return ECIPoint((pos_x,pos_y,pos_z), (vel_x,vel_y,vel_z))\n",
    "    \n",
    "    \n",
    "    def v_to(self, t, pt):\n",
    "        # Get a vector in topocentric coordinates at the given ECIPoint at unix time t\n",
    "        \n",
    "        obs_pt = self.at(t)\n",
    "        theta = self.lmst(t)\n",
    "        \n",
    "        v_range = obs_pt.range_to(pt)\n",
    "        \n",
    "        l_c,l_s = np.cos(self.lat), np.sin(self.lat) # we use these a lot below\n",
    "        t_c,t_s = np.cos(theta), np.sin(theta)\n",
    "        \n",
    "        # The axes used here are slightly annoying to me: they're due south, due east, and up.\n",
    "        # This is almost certainly done to keep some handedness constraints in the math, but,\n",
    "        # dangit three-space, why are you so difficult?\n",
    "        xform = np.array([\n",
    "            [l_s*t_c, l_s*t_s, -l_c],\n",
    "            [-t_s,    t_c,        0],\n",
    "            [l_c*t_c, l_c*t_s,  l_s]]) # prettier if you swap y and z, but that's confusing\n",
    "        \n",
    "        vec_sez = xform.dot(v_range)\n",
    "        return vec_sez\n",
    "    \n",
    "    def alt_az(self, t, pt):\n",
    "        # Returns the elevation and azimuth of the given point in space at time t from here\n",
    "        vec_sez = self.v_to(t,pt)\n",
    "        distance = np.sqrt(np.sum(vec_sez**2))\n",
    "        \n",
    "        azimuth = np.arctan2(vec_sez[1], -1*vec_sez[0])\n",
    "        elevation = np.arcsin(vec_sez[2]/distance)\n",
    "        \n",
    "        if azimuth < 0:\n",
    "            azimuth += 2*np.pi\n",
    "\n",
    "        return (elevation, azimuth)"
   ]
  },
  {
   "cell_type": "markdown",
   "metadata": {},
   "source": [
    "That c/sq/achcp business is really ugly.  Can we get rid of it?  let's see what its bounds look like:"
   ]
  },
  {
   "cell_type": "code",
   "execution_count": 3,
   "metadata": {
    "collapsed": false
   },
   "outputs": [
    {
     "data": {
      "image/png": "[encoded data removed]",
      "text/plain": [
       "<matplotlib.figure.Figure at 0x7f8046370e50>"
      ]
     },
     "metadata": {},
     "output_type": "display_data"
    }
   ],
   "source": [
    "lats = np.arange(-90.0, 90, 1.5)\n",
    "plot(lats, (np.sqrt(1 + WGS84.f*(WGS84.f-2)*np.sin(lats*np.pi/180.0)**2)-1)*WGS84.a)\n",
    "title(\"Error correction in the earth radius by latitude\")\n",
    "xlabel(\"Latitude, radians\")\n",
    "ylabel(\"Difference, km (km!)\")\n",
    "xlim(-90,90);"
   ]
  },
  {
   "cell_type": "markdown",
   "metadata": {},
   "source": [
    "Hunh, nope.  We really want that, unless we're cool with 20km errors in altitude(!).  Even where I'm at, at a modest 37.7°N, the error is still many kilometers of vertical error, which does matter (in terms of direction to target, especially around altitude/visibility calculations)."
   ]
  },
  {
   "cell_type": "markdown",
   "metadata": {},
   "source": [
    "Okay, so, not to be self-centered, what does this look like for me?  Let's see how things are changing at my QTH (station location)."
   ]
  },
  {
   "cell_type": "code",
   "execution_count": 4,
   "metadata": {
    "collapsed": true
   },
   "outputs": [],
   "source": [
    "import time"
   ]
  },
  {
   "cell_type": "code",
   "execution_count": 5,
   "metadata": {
    "collapsed": false
   },
   "outputs": [
    {
     "name": "stdout",
     "output_type": "stream",
     "text": [
      "1511751376.8 (37.7282,-122.4079)@25.0m (4893.105,-1050.386,3898.008) km @ (0.077,0.357,0.000) km/s\n",
      "1511751377.8 (37.7282,-122.4079)@25.0m (4893.181,-1050.029,3898.008) km @ (0.077,0.357,0.000) km/s\n",
      "1511751378.8 (37.7282,-122.4079)@25.0m (4893.258,-1049.672,3898.008) km @ (0.077,0.357,0.000) km/s\n",
      "1511751379.8 (37.7282,-122.4079)@25.0m (4893.334,-1049.316,3898.008) km @ (0.077,0.357,0.000) km/s\n",
      "1511751380.8 (37.7282,-122.4079)@25.0m (4893.411,-1048.959,3898.008) km @ (0.076,0.357,0.000) km/s\n"
     ]
    }
   ],
   "source": [
    "qth_deg = (37.728206,-122.407863) # QTH for AJ9BM\n",
    "qth = ECIEarthPoints(np.deg2rad(qth_deg[0]), np.deg2rad(qth_deg[1]), 25)\n",
    "tnow = time.time()\n",
    "for _ in range(5):\n",
    "    tnow += 1\n",
    "    print tnow, qth, qth.at(tnow)"
   ]
  },
  {
   "cell_type": "markdown",
   "metadata": {},
   "source": [
    "That's disappointingly dull.  Let's see what the changes look like throughout a sidereal day:"
   ]
  },
  {
   "cell_type": "code",
   "execution_count": 6,
   "metadata": {
    "collapsed": false
   },
   "outputs": [
    {
     "name": "stdout",
     "output_type": "stream",
     "text": [
      "1511751380.8 (4893.411,-1048.959,3898.008) km @ (0.076,0.357,0.000) km/s\n",
      "1511772921.8 (1048.967,4893.409,3898.008) km @ (-0.357,0.076,0.000) km/s\n",
      "1511794462.8 (-4893.407,1048.975,3898.008) km @ (-0.076,-0.357,0.000) km/s\n",
      "1511816003.8 (-1048.983,-4893.406,3898.008) km @ (0.357,-0.076,0.000) km/s\n"
     ]
    }
   ],
   "source": [
    "for t in np.arange(tnow, tnow+86164, 86164/4):\n",
    "    print t, qth.at(t)"
   ]
  },
  {
   "cell_type": "markdown",
   "metadata": {},
   "source": [
    "Okay, so that looks like a good quadrature speed, with no changes in the vertical component.  What does it look like for someone at the north pole?"
   ]
  },
  {
   "cell_type": "code",
   "execution_count": 7,
   "metadata": {
    "collapsed": false
   },
   "outputs": [
    {
     "name": "stdout",
     "output_type": "stream",
     "text": [
      "1511751380.8 (-0.000,0.000,6356.752) km @ (-0.000,-0.000,0.000) km/s\n",
      "1511772921.8 (-0.000,-0.000,6356.752) km @ (0.000,-0.000,0.000) km/s\n",
      "1511794462.8 (0.000,-0.000,6356.752) km @ (0.000,0.000,0.000) km/s\n",
      "1511816003.8 (0.000,0.000,6356.752) km @ (-0.000,0.000,0.000) km/s\n"
     ]
    }
   ],
   "source": [
    "qth_np = ECIEarthPoints(np.pi/2, 0, 0)\n",
    "for t in np.arange(tnow, tnow+86164, 86164/4):\n",
    "    print t, qth_np.at(t)\n",
    "    \n",
    "# Sweep the longitude as well:\n",
    "for lon in np.arange(-np.pi, np.pi, np.pi/6.0):\n",
    "    qth_np_i = ECIEarthPoints(np.pi/2, lon, 0)\n",
    "    pt = qth_np_i.at(tnow)\n",
    "    if pt.speed() > 0.001: # Check their speed, instead of futzing around\n",
    "        print \"Error!\"   "
   ]
  },
  {
   "cell_type": "markdown",
   "metadata": {},
   "source": [
    "Okay, so they have a z-component, but no x,y, and zero velocity, which is good.  Now to check out our pointing work.  First up, let's just do some trivial geocentric stuff.  For instance, what about a point straight up from my QTH?"
   ]
  },
  {
   "cell_type": "code",
   "execution_count": 8,
   "metadata": {
    "collapsed": false
   },
   "outputs": [
    {
     "name": "stdout",
     "output_type": "stream",
     "text": [
      "(37.7282,-122.4079)@25.0m\n",
      "(37.7282,-122.4079)@1000.0m\n",
      "[90.0, 169.1793051655886]\n"
     ]
    }
   ],
   "source": [
    "qth_but_higher = ECIEarthPoints(qth.lat, qth.lon, qth.alt+1000)\n",
    "print qth\n",
    "print qth_but_higher\n",
    "\n",
    "p1 = qth_but_higher.at(0)\n",
    "print map(np.rad2deg, qth.alt_az(0, p1)) # because i'm human after all"
   ]
  },
  {
   "cell_type": "markdown",
   "metadata": {},
   "source": [
    "Now, let's sanity check all the cardinal points:"
   ]
  },
  {
   "cell_type": "code",
   "execution_count": 9,
   "metadata": {
    "collapsed": false
   },
   "outputs": [
    {
     "name": "stdout",
     "output_type": "stream",
     "text": [
      "+ N ['-0.3', '360.0']\n",
      "- N ['-0.3', '180.0']\n",
      "+ E ['-0.3', '89.8']\n",
      "- E ['-0.3', '270.2']\n",
      "+ Z ['90.0', '169.2']\n",
      "- Z ['-90.0', '218.4']\n"
     ]
    }
   ],
   "source": [
    "steps = [0.01, 0.01, 1000]\n",
    "labels = \"NEZ\"\n",
    "for d in range(3):\n",
    "    c2 = [qth.lat, qth.lon, qth.alt]\n",
    "    c2[d] += steps[d]\n",
    "\n",
    "    qth_offset = ECIEarthPoints(c2[0],c2[1],c2[2])\n",
    "    p2 = qth_offset.at(0)\n",
    "    \n",
    "    aa = qth.alt_az(0, p2)\n",
    "    print \"+\", labels[d], map(lambda r: \"%0.1f\" % np.rad2deg(r), aa)\n",
    "    \n",
    "    c2[d] -= 2*steps[d]\n",
    "\n",
    "    qth_offset = ECIEarthPoints(c2[0],c2[1],c2[2])\n",
    "    p2 = qth_offset.at(0)\n",
    "    aa = qth.alt_az(0, p2)\n",
    "    print \"-\", labels[d], map(lambda r: \"%0.1f\" % np.rad2deg(r), aa)"
   ]
  },
  {
   "cell_type": "markdown",
   "metadata": {},
   "source": [
    "Okay, how about the top of Salesforce Tower?  It's at (37.7899,-122.3990887) and is about 325m tall. Let's call it 350m to deal with the ground under it."
   ]
  },
  {
   "cell_type": "code",
   "execution_count": 10,
   "metadata": {
    "collapsed": false
   },
   "outputs": [
    {
     "name": "stdout",
     "output_type": "stream",
     "text": [
      "[2.4643196669289997, 6.3861090838427721]\n"
     ]
    }
   ],
   "source": [
    "qth_salesforce = ECIEarthPoints(np.deg2rad(37.7899), np.deg2rad(-122.3990887), 325)\n",
    "\n",
    "p1 = qth_salesforce.at(0)\n",
    "print map(np.rad2deg, qth.alt_az(0, p1)) # because i'm human after all"
   ]
  },
  {
   "cell_type": "code",
   "execution_count": 11,
   "metadata": {
    "collapsed": false
   },
   "outputs": [
    {
     "name": "stdout",
     "output_type": "stream",
     "text": [
      "[1.8911662452640683, 3.4187422277854895]\n",
      "[1.8911662452640501, 3.4187422277843407]\n"
     ]
    }
   ],
   "source": [
    "qth_transamerica = ECIEarthPoints(np.deg2rad(37.7951775), np.deg2rad(-122.4027787), 275)\n",
    "\n",
    "p1 = qth_transamerica.at(0)\n",
    "print map(np.rad2deg, qth.alt_az(0, p1)) # because i'm human after all\n",
    "\n",
    "\n",
    "p1 = qth_transamerica.at(tnow)\n",
    "print map(np.rad2deg, qth.alt_az(tnow, p1)) # because i'm human after all"
   ]
  },
  {
   "cell_type": "markdown",
   "metadata": {},
   "source": [
    "These don't look totally insane, though the elevations don't match what I measure with my cellphone theodolite.  But it's probably a bit wonky anyway, so we'll live with this for now."
   ]
  },
  {
   "cell_type": "markdown",
   "metadata": {},
   "source": [
    "## Geostationary Orbits\n",
    "\n",
    "Before we get into crazypants LEO stuff, let's try a trivial thing which we can check online various places: the look angle for geostationary satellites.  These are well-documented because of satellite TV, and getting a rough location on the satellite should be trivial, because it's just at its longitude, latitude 0, with an altitude of 35,786km or so. Let's go for the DirecTV satellite at 110.1°W.  Per the [DirecTV-5 wikipedia page](https://en.wikipedia.org/wiki/DirecTV-5), its orbital parameters are 109.8°W and an altitude of 35,780-35,805km.  We'll call it 35,786km because we like textbook numbers.  We expect about 44° elevation and 160° azimuth, courtesy a few online look angle calculators (use multiple to cross-check)."
   ]
  },
  {
   "cell_type": "code",
   "execution_count": 12,
   "metadata": {
    "collapsed": false
   },
   "outputs": [
    {
     "name": "stdout",
     "output_type": "stream",
     "text": [
      "[44.315989319556891, 159.93654200383892]\n"
     ]
    }
   ],
   "source": [
    "directv_5 = ECIEarthPoints(0, np.deg2rad(-109.8), 35786e3)\n",
    "\n",
    "p_directv_5 = directv_5.at(0)\n",
    "print map(np.rad2deg, qth.alt_az(0, p_directv_5))"
   ]
  },
  {
   "cell_type": "markdown",
   "metadata": {},
   "source": [
    "Okay, that looks good.  So, we have a way to get alt-az coordinates for a given ECI frame all put together, and we hopefully have captured the rotation of the earth.  Now to add satellites!"
   ]
  }
 ],
 "metadata": {
  "kernelspec": {
   "display_name": "Python 2",
   "language": "python",
   "name": "python2"
  },
  "language_info": {
   "codemirror_mode": {
    "name": "ipython",
    "version": 2
   },
   "file_extension": ".py",
   "mimetype": "text/x-python",
   "name": "python",
   "nbconvert_exporter": "python",
   "pygments_lexer": "ipython2",
   "version": "2.7.12"
  }
 },
 "nbformat": 4,
 "nbformat_minor": 2
}
